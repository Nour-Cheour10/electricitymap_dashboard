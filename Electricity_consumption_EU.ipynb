{
 "cells": [
  {
   "cell_type": "code",
   "execution_count": null,
   "id": "fe7781d3-91f0-489c-a38e-ffd010aa923e",
   "metadata": {
    "lines_to_next_cell": 2
   },
   "outputs": [],
   "source": [
    "import numpy as np\n",
    "import bqplot.pyplot as plt\n",
    "from bqplot import (\n",
    "    CATEGORY10,\n",
    "    ColorScale,\n",
    "    DateScale,\n",
    "    LinearScale,\n",
    "    Lines,\n",
    "    Axis,\n",
    "    Figure,\n",
    "    OrdinalScale,\n",
    "    Bars,\n",
    "    Axis,\n",
    ")\n",
    "from lib.ENTSOE import fetch_consumption\n",
    "import pandas as pd\n",
    "from datetime import datetime, timedelta\n",
    "import lib\n",
    "from pkgutil import iter_modules\n",
    "import importlib\n",
    "import os\n",
    "from ipywidgets import (\n",
    "    TwoByTwoLayout,\n",
    "    Button,\n",
    "    Layout,\n",
    "    jslink,\n",
    "    IntText,\n",
    "    IntSlider,\n",
    "    FloatSlider,\n",
    "    Dropdown,\n",
    ")\n",
    "import json\n",
    "import random\n",
    "import requests\n",
    "from ipyleaflet import Map, GeoJSON, WidgetControl, FullScreenControl, ZoomControl\n",
    "import ipywidgets as widgets\n",
    "from ipyflex import FlexLayout\n",
    "\n",
    "\"\"\"\n",
    "country_code = ['AT', 'BE', 'BG', 'CH', 'CZ', 'DE', 'EE', 'ES', 'FI','FR' ,'GB', 'GR', 'HU', 'IE', 'IT', 'PL', 'PT', 'RO', 'RS', 'SI', 'SK']\n",
    "print(country_code)\n",
    "\n",
    "find = str(input(\"veuillez rentrer le code du pays correspondant : \"))\n",
    "\"\"\"\n",
    "a = fetch_consumption(\"AT\")\n",
    "\n",
    "\n",
    "param1 = a[\"consumption\"]\n",
    "param2 = a[\"datetime\"]\n",
    "\n",
    "print(a)\n",
    "\n",
    "consumption_data = param1\n",
    "datetime_data = np.array([param2], dtype=\"datetime64\")"
   ]
  },
  {
   "cell_type": "code",
   "execution_count": null,
   "id": "b9915ebc-0c1a-47fe-894e-6a0a8c93c95a",
   "metadata": {},
   "outputs": [],
   "source": [
    "param1"
   ]
  },
  {
   "cell_type": "code",
   "execution_count": null,
   "id": "23ad217a-038d-4318-a7a6-b4d6e809e9d3",
   "metadata": {
    "lines_to_next_cell": 2
   },
   "outputs": [],
   "source": [
    "param2"
   ]
  },
  {
   "cell_type": "code",
   "execution_count": null,
   "id": "41481abb-42b7-47d0-9b4c-351dd73af3b3",
   "metadata": {
    "lines_to_next_cell": 2
   },
   "outputs": [],
   "source": [
    "\n",
    "fig = plt.figure(title=\"Electricity  consumption\")\n",
    "bar = plt.bar(datetime_data, [param1, 700])\n",
    "fig"
   ]
  },
  {
   "cell_type": "code",
   "execution_count": null,
   "id": "8ed5ba3c-e89e-409d-8865-af33d9138759",
   "metadata": {},
   "outputs": [],
   "source": []
  }
 ],
 "metadata": {
  "kernelspec": {
   "display_name": "Python 3 (ipykernel)",
   "language": "python",
   "name": "python3"
  },
  "language_info": {
   "codemirror_mode": {
    "name": "ipython",
    "version": 3
   },
   "file_extension": ".py",
   "mimetype": "text/x-python",
   "name": "python",
   "nbconvert_exporter": "python",
   "pygments_lexer": "ipython3",
   "version": "3.10.0"
  }
 },
 "nbformat": 4,
 "nbformat_minor": 5
}
