{
 "cells": [
  {
   "cell_type": "code",
   "execution_count": null,
   "id": "f5b81cca-2ded-4225-8562-e0a8510ea949",
   "metadata": {
    "lines_to_next_cell": 2
   },
   "outputs": [],
   "source": [
    "import numpy as np\n",
    "import bqplot.pyplot as plt\n",
    "from bqplot import (\n",
    "    CATEGORY10,\n",
    "    ColorScale,\n",
    "    DateScale,\n",
    "    LinearScale,\n",
    "    Lines,\n",
    "    Axis,\n",
    "    Figure,\n",
    "    OrdinalScale,\n",
    "    Bars,\n",
    ")\n",
    "from lib.ENTSOE import fetch_consumption_forecast\n",
    "import pandas as pd\n",
    "import lib\n",
    "from datetime import datetime, timedelta\n",
    "from pkgutil import iter_modules\n",
    "import importlib\n",
    "\n",
    "country_code = [\n",
    "    \"AT\",\n",
    "    \"BE\",\n",
    "    \"BG\",\n",
    "    \"CH\",\n",
    "    \"CZ\",\n",
    "    \"DE\",\n",
    "    \"EE\",\n",
    "    \"ES\",\n",
    "    \"FI\",\n",
    "    \"FR\",\n",
    "    \"GB\",\n",
    "    \"GR\",\n",
    "    \"HU\",\n",
    "    \"IE\",\n",
    "    \"IT\",\n",
    "    \"PL\",\n",
    "    \"PT\",\n",
    "    \"RO\",\n",
    "    \"RS\",\n",
    "    \"SI\",\n",
    "    \"SK\",\n",
    "]\n",
    "print(country_code)\n",
    "find = str(input(\"veuillez rentrer le code du pays correspondant : \"))\n",
    "a = fetch_consumption_forecast(find)\n",
    "\n",
    "\n",
    "param1 = [param[\"value\"] for param in a]\n",
    "param2 = [param[\"datetime\"] for param in a]\n",
    "\n",
    "\n",
    "price_data = param1\n",
    "datetime_data = np.array(param2, dtype=\"datetime64\")\n",
    "\n",
    "fig = plt.figure(title=\"Electricity consumption forecast\")\n",
    "bar = plt.bar(datetime_data, price_data)\n",
    "fig"
   ]
  },
  {
   "cell_type": "code",
   "execution_count": null,
   "id": "07b45721-a962-4ce0-a9b6-edd076de1121",
   "metadata": {},
   "outputs": [],
   "source": []
  }
 ],
 "metadata": {
  "kernelspec": {
   "display_name": "Python 3 (ipykernel)",
   "language": "python",
   "name": "python3"
  },
  "language_info": {
   "codemirror_mode": {
    "name": "ipython",
    "version": 3
   },
   "file_extension": ".py",
   "mimetype": "text/x-python",
   "name": "python",
   "nbconvert_exporter": "python",
   "pygments_lexer": "ipython3",
   "version": "3.10.0"
  }
 },
 "nbformat": 4,
 "nbformat_minor": 5
}
