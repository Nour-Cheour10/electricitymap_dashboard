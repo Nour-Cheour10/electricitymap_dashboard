{
 "cells": [
  {
   "cell_type": "code",
   "execution_count": null,
   "id": "b0e73fff-06ed-4066-aee0-bfe37dfde667",
   "metadata": {
    "lines_to_next_cell": 2
   },
   "outputs": [],
   "source": [
    "import numpy as np\n",
    "import bqplot.pyplot as plt\n",
    "from bqplot import (\n",
    "    CATEGORY10,\n",
    "    ColorScale,\n",
    "    DateScale,\n",
    "    LinearScale,\n",
    "    Lines,\n",
    "    Axis,\n",
    "    Figure,\n",
    "    OrdinalScale,\n",
    "    Bars,\n",
    ")\n",
    "from lib.ENTSOE import fetch_exchange\n",
    "import pandas as pd\n",
    "import lib\n",
    "from datetime import datetime, timedelta\n",
    "from pkgutil import iter_modules\n",
    "import importlib\n",
    "\n",
    "country_code = [\n",
    "    \"AT\",\n",
    "    \"BE\",\n",
    "    \"BG\",\n",
    "    \"CH\",\n",
    "    \"CZ\",\n",
    "    \"DE\",\n",
    "    \"EE\",\n",
    "    \"ES\",\n",
    "    \"FI\",\n",
    "    \"FR\",\n",
    "    \"GB\",\n",
    "    \"GR\",\n",
    "    \"HU\",\n",
    "    \"IE\",\n",
    "    \"IT\",\n",
    "    \"PL\",\n",
    "    \"PT\",\n",
    "    \"RO\",\n",
    "    \"RS\",\n",
    "    \"SI\",\n",
    "    \"SK\",\n",
    "]\n",
    "print(country_code)\n",
    "\n",
    "find1 = str(input(\"veuillez rentrer le code du pays correspondant : \"))\n",
    "find2 = str(input(\"veuillez rentrer le code de l'autre pays correspondant : \"))\n",
    "a = fetch_exchange(find1, find2)\n",
    "\n",
    "param1 = a[\"netFlow\"]\n",
    "param2 = [param[\"datetime\"] for param in a]\n",
    "# param3 = [param['netFlow'] for param in b]\n",
    "# param4 = [param['datetime'] for param in b]\n",
    "exchanges_values = param1\n",
    "datetime_data = np.array(param2, dtype=\"datetime64\")\n",
    "\n",
    "fig = plt.figure(title=\"Electricity exchanges\")\n",
    "bar = plt.bar(datetime_data, exchanges_values)\n",
    "fig"
   ]
  },
  {
   "cell_type": "code",
   "execution_count": null,
   "id": "40ad59a9-2b49-4a9e-a6c3-9fa225f649e9",
   "metadata": {},
   "outputs": [],
   "source": []
  }
 ],
 "metadata": {
  "kernelspec": {
   "display_name": "Python 3 (ipykernel)",
   "language": "python",
   "name": "python3"
  },
  "language_info": {
   "codemirror_mode": {
    "name": "ipython",
    "version": 3
   },
   "file_extension": ".py",
   "mimetype": "text/x-python",
   "name": "python",
   "nbconvert_exporter": "python",
   "pygments_lexer": "ipython3",
   "version": "3.10.0"
  }
 },
 "nbformat": 4,
 "nbformat_minor": 5
}
