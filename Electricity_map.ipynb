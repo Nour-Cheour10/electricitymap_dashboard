{
 "cells": [
  {
   "cell_type": "code",
   "execution_count": 1,
   "id": "66e8deb6-7a29-4f5b-bc20-e111105ad50d",
   "metadata": {},
   "outputs": [
    {
     "name": "stderr",
     "output_type": "stream",
     "text": [
      "/tmp/ipykernel_31258/1448717279.py:46: DeprecationWarning: parsing timezone aware datetimes is deprecated; this will raise an error in the future\n",
      "  time_data = np.array(param_production,dtype='datetime64')\n",
      "/tmp/ipykernel_31258/1448717279.py:55: DeprecationWarning: parsing timezone aware datetimes is deprecated; this will raise an error in the future\n",
      "  datetime_data = np.array(param_datetime,dtype='datetime64')\n"
     ]
    }
   ],
   "source": [
    "import numpy as np\n",
    "import bqplot.pyplot as plt\n",
    "from bqplot import CATEGORY10, ColorScale , DateScale, LinearScale, Lines, Axis, Figure , OrdinalScale , Bars , Axis\n",
    "from lib.ENTSOE import fetch_production\n",
    "from lib.ENTSOE import fetch_price\n",
    "import pandas as pd\n",
    "from datetime import datetime, timedelta\n",
    "import lib\n",
    "from pkgutil import iter_modules\n",
    "import importlib\n",
    "import os\n",
    "from ipywidgets import TwoByTwoLayout , Button, Layout, jslink, IntText, IntSlider, FloatSlider, Dropdown\n",
    "import json\n",
    "import random\n",
    "import requests\n",
    "from ipyleaflet import Map, GeoJSON, WidgetControl, FullScreenControl, ZoomControl\n",
    "import ipywidgets as widgets\n",
    "from ipyflex import FlexLayout\n",
    "\n",
    "\n",
    "with open(\"./eu-countries.geo.json\") as f:\n",
    "    countries = json.load(f)\n",
    "    \n",
    "m = Map(zoom=3,center=(48.30, 23.23), zoom_control=False, layout=dict(height='100%', width='100%'))\n",
    "m.add_control(ZoomControl(position='topright'))\n",
    "m.add_control(FullScreenControl())\n",
    "geo = GeoJSON(data=countries,style={\"fillColor\": \"white\", \"weight\": 0.5},hover_style={\"fillColor\": \"#1f77b4\"},name=\"Countries\")\n",
    "m.add_layer(geo)\n",
    "\n",
    "\n",
    "data_production = fetch_production('FR')\n",
    "data_price = fetch_price('FR')\n",
    "param = []\n",
    "labels = []\n",
    "\n",
    "\n",
    "# Populate lists\n",
    "productions = [\"wind\",\"coal\",\"gas\",\"nuclear\",\"biomass\",\"hydro\",\"oil\",\"solar\",\"unknown\"]\n",
    "for production in productions:\n",
    "    if production in data_production[0]['production'] and data_production[0]['production'][production] is not None:\n",
    "        param.append([subdata['production'][production] for subdata in data_production])\n",
    "        labels.append(production)\n",
    "\n",
    "    \n",
    "param_production = [param['datetime'] for param in data_production]\n",
    "time_data = np.array(param_production,dtype='datetime64')\n",
    "fig_production = plt.figure(title=\"Italia\", animation_duration=1000)\n",
    "axes_options_1 = {\"x\": {\"label\": \"time \"}, \"y\": {\"label\": \"production (MWh) \",\"label_offset\" : \"6ex\"}}\n",
    "bar1 =  plt.bar(time_data,param,colors=CATEGORY10,labels=labels,display_legend=True)\n",
    "axes = plt.axes(options = axes_options_1)\n",
    "\n",
    "\n",
    "param_price = [param['price'] for param in data_price]\n",
    "param_datetime = [param['datetime'] for param in data_price]\n",
    "datetime_data = np.array(param_datetime,dtype='datetime64')\n",
    "fig_price = plt.figure(title=\"Electricity price\")\n",
    "axes_options_2 = {\"x\": {\"label\": \"time \"}, \"y\": {\"label\": \"price (€/MWh) \",\"label_offset\" : \"6ex\"}}\n",
    "bar2 = plt.bar(datetime_data, param_price)\n",
    "axes2 = plt.axes(options = axes_options_2)\n",
    "\n",
    "\n",
    "def update_figure_production(param, labels , time_data , country):\n",
    "    bar1.y = param\n",
    "    bar1.x = time_data\n",
    "    fig_production.title = country\n",
    "    \n",
    "def update_figure_price(param_price, datetime_data , country):\n",
    "    bar2.y = param_price\n",
    "    bar2.x = datetime_data\n",
    "    fig_price.title = country\n",
    "\n",
    "def on_click(event, feature, **kwargs):\n",
    "  \n",
    "    data_production1 = fetch_production(feature['properties']['iso_a2'])\n",
    "    data_price = fetch_price(feature['properties']['iso_a2'])\n",
    "    param = []\n",
    "    labels = []\n",
    "    productions = [\"wind\",\"coal\",\"gas\",\"nuclear\",\"biomass\",\"hydro\",\"oil\",\"solar\",\"unknown\"]\n",
    "    for production in productions:\n",
    "        if production in data_production1[0]['production'] and data_production1[0]['production'][production] is not None:\n",
    "            param.append([subdata['production'][production] for subdata in data_production1])\n",
    "            labels.append(production)\n",
    "    \n",
    "    param_price = [param1['price'] for param1 in data_price]\n",
    "    param_datetime = [param['datetime'] for param in data_price]\n",
    "    update_figure_production(param, labels , time_data , feature['properties']['name'])\n",
    "    update_figure_price(param_price, datetime_data , feature['properties']['name'])\n",
    "\n",
    "    \n",
    "geo.on_click(on_click)\n",
    "\n"
   ]
  },
  {
   "cell_type": "code",
   "execution_count": 10,
   "id": "118e9b1d-16cf-4c56-8583-a74808f5d42c",
   "metadata": {
    "scrolled": false
   },
   "outputs": [
    {
     "data": {
      "application/vnd.jupyter.widget-view+json": {
       "model_id": "78024b4a37b345f6b90c04acf6deb8d3",
       "version_major": 2,
       "version_minor": 0
      },
      "text/plain": [
       "FlexLayout(children={'Map': Map(bottom=880.0, center=[47.989921667414194, 23.73046875], controls=(AttributionC…"
      ]
     },
     "metadata": {},
     "output_type": "display_data"
    }
   ],
   "source": [
    "w = {'Map':m,'fig_production':fig_production , 'fig_price':fig_price}\n",
    "header = dict(title='Electricity Production', buttons=[])\n",
    "FlexLayout(w, style = {'height':'calc(100vh - 60px)'}, header=header, template=\"Electricity_map.json\", editable=False)"
   ]
  },
  {
   "cell_type": "code",
   "execution_count": null,
   "id": "7cb1e2f1-feb3-4b80-9708-431a23fa8993",
   "metadata": {},
   "outputs": [],
   "source": []
  },
  {
   "cell_type": "code",
   "execution_count": null,
   "id": "fa6f138c-1e67-4ebe-8a64-93a85b82ff80",
   "metadata": {},
   "outputs": [],
   "source": []
  }
 ],
 "metadata": {
  "kernelspec": {
   "display_name": "Python 3 (ipykernel)",
   "language": "python",
   "name": "python3"
  },
  "language_info": {
   "codemirror_mode": {
    "name": "ipython",
    "version": 3
   },
   "file_extension": ".py",
   "mimetype": "text/x-python",
   "name": "python",
   "nbconvert_exporter": "python",
   "pygments_lexer": "ipython3",
   "version": "3.9.10"
  }
 },
 "nbformat": 4,
 "nbformat_minor": 5
}
