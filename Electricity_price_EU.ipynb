{
 "cells": [
  {
   "cell_type": "code",
   "execution_count": null,
   "id": "0657dc28-b02b-4180-aa02-99083ff4c019",
   "metadata": {
    "lines_to_next_cell": 2
   },
   "outputs": [],
   "source": [
    "import numpy as np\n",
    "import bqplot.pyplot as plt\n",
    "from bqplot import (\n",
    "    CATEGORY10,\n",
    "    ColorScale,\n",
    "    DateScale,\n",
    "    LinearScale,\n",
    "    Lines,\n",
    "    Axis,\n",
    "    Figure,\n",
    "    OrdinalScale,\n",
    "    Bars,\n",
    ")\n",
    "from lib.ENTSOE import fetch_price\n",
    "import pandas as pd\n",
    "import lib\n",
    "from datetime import datetime, timedelta\n",
    "from pkgutil import iter_modules\n",
    "import importlib\n",
    "\n",
    "find = str(input(\"veuillez rentrer le code du pays correspondant : \"))\n",
    "a = fetch_price(\"DE\")\n",
    "print(a)\n",
    "\n",
    "\n",
    "param1 = [param[\"price\"] for param in a]\n",
    "param2 = [param[\"datetime\"] for param in a]\n",
    "\n",
    "price_data = param1\n",
    "datetime_data = np.array(param2, dtype=\"datetime64\")\n",
    "\n",
    "fig = plt.figure(title=\"Electricity price\")\n",
    "bar = plt.bar(datetime_data, price_data)\n",
    "fig"
   ]
  },
  {
   "cell_type": "code",
   "execution_count": null,
   "id": "eb56d0d5-3c4d-4e9a-a7fe-0ffa965365a9",
   "metadata": {},
   "outputs": [],
   "source": []
  }
 ],
 "metadata": {
  "kernelspec": {
   "display_name": "Python 3 (ipykernel)",
   "language": "python",
   "name": "python3"
  },
  "language_info": {
   "codemirror_mode": {
    "name": "ipython",
    "version": 3
   },
   "file_extension": ".py",
   "mimetype": "text/x-python",
   "name": "python",
   "nbconvert_exporter": "python",
   "pygments_lexer": "ipython3",
   "version": "3.10.0"
  }
 },
 "nbformat": 4,
 "nbformat_minor": 5
}
