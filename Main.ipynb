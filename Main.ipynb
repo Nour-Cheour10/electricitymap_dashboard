{
 "cells": [
  {
   "cell_type": "code",
   "execution_count": 1,
   "id": "96812ede-70cf-4bcf-bec9-51bb8f65ad1d",
   "metadata": {},
   "outputs": [],
   "source": [
    "from ipyleaflet import Map, GeoJSON, WidgetControl, FullScreenControl, ZoomControl, Marker\n",
    "from ipywidgets import Output, HBox,VBox as widgets\n",
    "from geopy.geocoders import Nominatim\n",
    "import asyncio\n",
    "from ipyflex import FlexLayout \n",
    "import json \n",
    "import os\n",
    "import json\n",
    "import random\n",
    "import requests\n",
    "import Functions as fct"
   ]
  },
  {
   "cell_type": "code",
   "execution_count": 2,
   "id": "bb3007f2-9c27-4f00-8354-31e591cd528e",
   "metadata": {
    "collapsed": true,
    "jupyter": {
     "outputs_hidden": true
    }
   },
   "outputs": [
    {
     "data": {
      "application/vnd.jupyter.widget-view+json": {
       "model_id": "ea358a2cdc4e406583d53b6fb3f2863d",
       "version_major": 2,
       "version_minor": 0
      },
      "text/plain": [
       "Map(center=[50.6252978589571, 0.34580993652344], controls=(ZoomControl(options=['position', 'zoom_in_text', 'z…"
      ]
     },
     "execution_count": 2,
     "metadata": {},
     "output_type": "execute_result"
    }
   ],
   "source": [
    "if not os.path.exists('countries.geojson'):\n",
    "    url = 'https://github.com/datasets/geo-countries/blob/master/data/countries.geojson'\n",
    "    r = requests.get(url)\n",
    "    with open('countries_copy', 'w') as f:\n",
    "        f.write(r.content.decode(\"utf-8\"))\n",
    "   \n",
    "with open('countries.geojson', 'r') as f:\n",
    "    data = json.load(f)\n",
    "\n",
    "def random_color(feature):\n",
    "    return {\n",
    "        'color': 'black',\n",
    "        'fillColor': random.choice(['red', 'yellow', 'green', 'orange']),\n",
    "    }\n",
    "\n",
    "m = Map(center=(50.6252978589571, 0.34580993652344), zoom=3)\n",
    "\n",
    "geo_json = GeoJSON(\n",
    "    data=data,\n",
    "    style={\n",
    "        'opacity': 1, 'dashArray': '9', 'fillOpacity': 0.1, 'weight': 1\n",
    "    },\n",
    "    hover_style={\n",
    "        'color': 'white', 'dashArray': '0', 'fillOpacity': 0.5\n",
    "    },\n",
    "    style_callback=random_color\n",
    ")\n",
    "def handle_click(**kwargs):\n",
    "    if kwargs.get('type') == 'click':\n",
    "        m.add_layer(Marker(location=kwargs.get('coordinates')))\n",
    "m.add(geo_json)\n",
    "m.on_interaction(handle_click)\n",
    "\n",
    "m"
   ]
  },
  {
   "cell_type": "code",
   "execution_count": 3,
   "id": "c06c6741-a813-4d9a-b646-f13abe23782e",
   "metadata": {},
   "outputs": [],
   "source": [
    "def get_country_from_coordinates(coordinates):\n",
    "    geolocator = Nominatim(user_agent=\"geo_locator\")\n",
    "    location = geolocator.reverse(coordinates, language=\"en\")\n",
    "    address = location.address\n",
    "    country = address.split(\",\")[-1].strip()\n",
    "    return country"
   ]
  },
  {
   "cell_type": "code",
   "execution_count": 4,
   "id": "5736caca-9cd8-444d-a3cc-53357c4d0339",
   "metadata": {},
   "outputs": [
    {
     "data": {
      "application/vnd.jupyter.widget-view+json": {
       "model_id": "50dab0638c98485b9abd2f20b0b02fbb",
       "version_major": 2,
       "version_minor": 0
      },
      "text/plain": [
       "Map(center=[52.204793, 360.121558], controls=(ZoomControl(options=['position', 'zoom_in_text', 'zoom_in_title'…"
      ]
     },
     "execution_count": 4,
     "metadata": {},
     "output_type": "execute_result"
    }
   ],
   "source": [
    "from ipyleaflet import *\n",
    "\n",
    "def handle_click(**kwargs):\n",
    "    print(kwargs)\n",
    "    \n",
    "center = (52.204793, 360.121558)\n",
    "m = Map(center=center)\n",
    "marker = Marker(location=center, draggable=True)\n",
    "m.add_layer(marker)\n",
    "marker.on_click(handle_click)\n",
    "m\n"
   ]
  },
  {
   "cell_type": "code",
   "execution_count": 5,
   "id": "3fd963c4-c6b0-4614-adf1-6a975300d6b5",
   "metadata": {
    "collapsed": true,
    "jupyter": {
     "outputs_hidden": true
    }
   },
   "outputs": [
    {
     "data": {
      "application/vnd.jupyter.widget-view+json": {
       "model_id": "92c70e8cacda4f129c2ed281085161e4",
       "version_major": 2,
       "version_minor": 0
      },
      "text/plain": [
       "Map(center=[52.204793, 360.121558], controls=(ZoomControl(options=['position', 'zoom_in_text', 'zoom_in_title'…"
      ]
     },
     "execution_count": 5,
     "metadata": {},
     "output_type": "execute_result"
    }
   ],
   "source": [
    "\n",
    "async def handle_click(**kwargs):\n",
    "    location = marker.location\n",
    "    country = get_country_from_coordinates(location)\n",
    "    print(f\"Clicked location: {location}, Country: {country}\")\n",
    "    await fct.Carbon_Intensity_per_day(fct.Countries_Abrreviation(country))\n",
    "\n",
    "\n",
    "center = (52.204793, 360.121558)\n",
    "m = Map(center=center, zoom=2)  \n",
    "marker = Marker(location=center, draggable=True)\n",
    "m.add_layer(marker)\n",
    "marker.on_click(handle_click)\n",
    "m\n"
   ]
  },
  {
   "cell_type": "code",
   "execution_count": 7,
   "id": "50f05f6a-0cf9-418a-8c63-5e7cfe1a34d6",
   "metadata": {},
   "outputs": [],
   "source": [
    "await fct.Carbon_Intensity_per_day('FR', box)"
   ]
  },
  {
   "cell_type": "code",
   "execution_count": 16,
   "id": "2b88dbe8-4c5d-411d-9a6d-b78166377361",
   "metadata": {},
   "outputs": [
    {
     "data": {
      "application/vnd.jupyter.widget-view+json": {
       "model_id": "14a555839be142b59a90b9807d99a71d",
       "version_major": 2,
       "version_minor": 0
      },
      "text/plain": [
       "VBox(children=(Map(center=[52.204793, 360.121558], controls=(ZoomControl(options=['position', 'zoom_in_text', …"
      ]
     },
     "metadata": {},
     "output_type": "display_data"
    }
   ],
   "source": [
    "from ipywidgets import Output, VBox\n",
    "box = VBox()\n",
    "output_widget_H = Output()\n",
    "def handle_click(**kwargs):\n",
    "    location = marker.location\n",
    "    country = get_country_from_coordinates(location)\n",
    "    #print(f\"Clicked location: {location}, Country: {country}\")\n",
    "    x=fct.Countries_Abrreviation(country)\n",
    "    asyncio.create_task(fct.Carbon_Intensity_per_day(x, box))\n",
    "    asyncio.create_task(fct.Hourly_Power_Consumption(x,box))\n",
    "    \n",
    "\n",
    "def get_country_from_coordinates(coordinates):\n",
    "    geolocator = Nominatim(user_agent=\"geo_locator\")\n",
    "    location = geolocator.reverse(coordinates, language=\"en\")\n",
    "    address = location.address\n",
    "    country = address.split(\",\")[-1].strip()\n",
    "    return country\n",
    "\n",
    "center = (52.204793, 360.121558)\n",
    "m = Map(center=center, zoom=2)  \n",
    "marker = Marker(location=center, draggable=True)\n",
    "m.add_layer(marker)\n",
    "marker.on_click(handle_click)\n",
    "output_widget_H.append_display_data(box)\n",
    "box.children = [m]\n",
    "display(box)"
   ]
  },
  {
   "cell_type": "code",
   "execution_count": 9,
   "id": "b9b0e072-4aef-4d4d-9c91-4b7a51b04a87",
   "metadata": {},
   "outputs": [
    {
     "data": {
      "application/vnd.jupyter.widget-view+json": {
       "model_id": "f628fbcc97ed4be4b250547bfed60215",
       "version_major": 2,
       "version_minor": 0
      },
      "text/plain": [
       "VBox(children=(Map(center=[52.204793, 360.121558], controls=(ZoomControl(options=['position', 'zoom_in_text', …"
      ]
     },
     "metadata": {},
     "output_type": "display_data"
    },
    {
     "data": {
      "text/plain": [
       "\"\\ndashboard = FlexLayout(style={'height':'300px'})\\ndashboard.add('Hourly Power Consumption',ipywidgets.basemaps)\\ndashboard\\noutput_widget = Output()  \\noutput_widget.widget=(marker.on_click(handle_click)) \\nprint(output_widget.widget)\\ndashboard.add('test',output_widget) \\ndashboard\""
      ]
     },
     "execution_count": 9,
     "metadata": {},
     "output_type": "execute_result"
    }
   ],
   "source": [
    "#TEST\n",
    "from ipywidgets import Output, VBox\n",
    "box = VBox()\n",
    "\n",
    "def handle_click(**kwargs):\n",
    "    location = marker.location\n",
    "    country = get_country_from_coordinates(location)\n",
    "    #print(f\"Clicked location: {location}, Country: {country}\")\n",
    "    x=fct.Countries_Abrreviation(country)\n",
    "    asyncio.create_task(fct.Hourly_Power_Consumption(x,box))\n",
    "    \n",
    "\n",
    "def get_country_from_coordinates(coordinates):\n",
    "    geolocator = Nominatim(user_agent=\"geo_locator\")\n",
    "    location = geolocator.reverse(coordinates, language=\"en\")\n",
    "    address = location.address\n",
    "    country = address.split(\",\")[-1].strip()\n",
    "    return country\n",
    "\n",
    "center = (52.204793, 360.121558)\n",
    "m = Map(center=center, zoom=2)  \n",
    "marker = Marker(location=center, draggable=True)\n",
    "m.add_layer(marker)\n",
    "marker.on_click(handle_click)\n",
    "\n",
    "box.children = [m]\n",
    "output_widget = Output()\n",
    "output_widget.append_display_data(box)\n",
    "display(box)\n",
    "\n",
    "'''\n",
    "dashboard = FlexLayout(style={'height':'300px'})\n",
    "dashboard.add('Hourly Power Consumption',ipywidgets.basemaps)\n",
    "dashboard\n",
    "output_widget = Output()  \n",
    "output_widget.widget=(marker.on_click(handle_click)) \n",
    "print(output_widget.widget)\n",
    "dashboard.add('test',output_widget) \n",
    "dashboard'''"
   ]
  },
  {
   "cell_type": "code",
   "execution_count": 19,
   "id": "8e744b7f-22ee-4878-ae94-9e2e20579ba7",
   "metadata": {},
   "outputs": [
    {
     "data": {
      "application/vnd.jupyter.widget-view+json": {
       "model_id": "0b73bdb3b5ec42e58a999240616c60db",
       "version_major": 2,
       "version_minor": 0
      },
      "text/plain": [
       "FlexLayout(children={'Hourly Power Consumption': Output(outputs=({'output_type': 'display_data', 'data': {'tex…"
      ]
     },
     "execution_count": 19,
     "metadata": {},
     "output_type": "execute_result"
    }
   ],
   "source": [
    "dashboard = FlexLayout(style={'height':'700px'})\n",
    "dashboard.add('Hourly Power Consumption',output_widget)\n",
    "dashboard.add('Carbon Intensity per day',output_widget_H)\n",
    "dashboard"
   ]
  },
  {
   "cell_type": "code",
   "execution_count": 18,
   "id": "850d60ce-5454-494e-a8f2-4231d7afe7ca",
   "metadata": {},
   "outputs": [
    {
     "data": {
      "application/vnd.jupyter.widget-view+json": {
       "model_id": "a5bf7ba82f0243909b02676f7d65c62d",
       "version_major": 2,
       "version_minor": 0
      },
      "text/plain": [
       "VBox(children=(VBox(children=(Map(center=[52.204793, 360.121558], controls=(ZoomControl(options=['position', '…"
      ]
     },
     "metadata": {},
     "output_type": "display_data"
    },
    {
     "data": {
      "text/plain": [
       "\"\\ndashboard = FlexLayout(style={'height':'300px'})\\ndashboard.add('Hourly Power Consumption',ipywidgets.basemaps)\\ndashboard\\noutput_widget = Output()  \\noutput_widget.widget=(marker.on_click(handle_click)) \\nprint(output_widget.widget)\\ndashboard.add('test',output_widget) \\ndashboard\""
      ]
     },
     "execution_count": 18,
     "metadata": {},
     "output_type": "execute_result"
    }
   ],
   "source": [
    "#TEST\n",
    "from ipywidgets import Output, VBox\n",
    "box = VBox()\n",
    "box1 = VBox()\n",
    "\n",
    "def handle_click(**kwargs):\n",
    "    location = marker.location\n",
    "    country = get_country_from_coordinates(location)\n",
    "    #print(f\"Clicked location: {location}, Country: {country}\")\n",
    "    x=fct.Countries_Abrreviation(country)\n",
    "    asyncio.create_task(fct.Hourly_Power_Consumption(x,box1))\n",
    "    asyncio.create_task(fct.Carbon_Intensity_per_day(x,box))\n",
    "    \n",
    "    \n",
    "\n",
    "def get_country_from_coordinates(coordinates):\n",
    "    geolocator = Nominatim(user_agent=\"geo_locator\")\n",
    "    location = geolocator.reverse(coordinates, language=\"en\")\n",
    "    address = location.address\n",
    "    country = address.split(\",\")[-1].strip()\n",
    "    return country\n",
    "\n",
    "center = (52.204793, 360.121558)\n",
    "m = Map(center=center, zoom=2)  \n",
    "marker = Marker(location=center, draggable=True)\n",
    "m.add_layer(marker)\n",
    "marker.on_click(handle_click)\n",
    "box.children = [m]\n",
    "box1.children= [box]\n",
    "output_widget = Output()\n",
    "output_widget.append_display_data(box)\n",
    "#display(box)\n",
    "display(box1)\n",
    "\n",
    "'''\n",
    "dashboard = FlexLayout(style={'height':'300px'})\n",
    "dashboard.add('Hourly Power Consumption',ipywidgets.basemaps)\n",
    "dashboard\n",
    "output_widget = Output()  \n",
    "output_widget.widget=(marker.on_click(handle_click)) \n",
    "print(output_widget.widget)\n",
    "dashboard.add('test',output_widget) \n",
    "dashboard'''"
   ]
  },
  {
   "cell_type": "code",
   "execution_count": 12,
   "id": "ee9a09b9-6116-4797-99cd-f17049f5ef70",
   "metadata": {},
   "outputs": [
    {
     "data": {
      "text/plain": [
       "'print(get_country_from_coordinates(coordinates))\\ncountry = get_country_from_coordinates(coordinates)\\nprint(country)'"
      ]
     },
     "execution_count": 12,
     "metadata": {},
     "output_type": "execute_result"
    }
   ],
   "source": [
    "if not os.path.exists('countries.geojson'):\n",
    "    url = 'https://github.com/datasets/geo-countries/blob/master/data/countries.geojson'\n",
    "    r = requests.get(url)\n",
    "    with open('countries_copy', 'w') as f:\n",
    "        f.write(r.content.decode(\"utf-8\"))\n",
    "   \n",
    "with open('countries.geojson', 'r') as f:\n",
    "    data = json.load(f)\n",
    "\n",
    "def random_color(feature):\n",
    "    return {\n",
    "        'color': 'black',\n",
    "        'fillColor': random.choice(['red', 'yellow', 'green', 'orange']),\n",
    "    }\n",
    "\n",
    "m = Map(center=(50.6252978589571, 0.34580993652344), zoom=3)\n",
    "\n",
    "geo_json = GeoJSON(\n",
    "    data=data,\n",
    "    style={\n",
    "        'opacity': 1, 'dashArray': '9', 'fillOpacity': 0.1, 'weight': 1\n",
    "    },\n",
    "    hover_style={\n",
    "        'color': 'white', 'dashArray': '0', 'fillOpacity': 0.5\n",
    "    },\n",
    "    style_callback=random_color\n",
    ")\n",
    "# Accéder aux coordonnées du premier feature dans le fichier GeoJSON\n",
    "coordinates = geo_json.data['features'][0]['geometry']['coordinates']\n",
    "\n",
    "def get_country_from_coordinates(coordinates):\n",
    "    geolocator = Nominatim(user_agent=\"geo_locator\")\n",
    "    location = geolocator.reverse(coordinates, language=\"en\")\n",
    "    address = location.address\n",
    "    country = address.split(\",\")[-1].strip()\n",
    "    return country\n",
    "    \n",
    "'''print(get_country_from_coordinates(coordinates))\n",
    "country = get_country_from_coordinates(coordinates)\n",
    "print(country)'''\n",
    "\n",
    "\n"
   ]
  },
  {
   "cell_type": "code",
   "execution_count": 13,
   "id": "a55ffeec-4454-45d9-8696-e13789ad6e1b",
   "metadata": {},
   "outputs": [
    {
     "data": {
      "application/vnd.jupyter.widget-view+json": {
       "model_id": "346f8481187b4a7b8ebc9531b3628dd9",
       "version_major": 2,
       "version_minor": 0
      },
      "text/plain": [
       "Map(center=[50.6252978589571, 0.34580993652344], controls=(ZoomControl(options=['position', 'zoom_in_text', 'z…"
      ]
     },
     "execution_count": 13,
     "metadata": {},
     "output_type": "execute_result"
    }
   ],
   "source": [
    "def handle_click(**kwargs):\n",
    "    if kwargs.get('type') == 'click':\n",
    "        location = geo_json.data\n",
    "        country = get_country_from_coordinates(location)\n",
    "        #print(f\"Clicked location: {location}, Country: {country}\")\n",
    "        x=fct.Countries_Abrreviation(country)\n",
    "        asyncio.create_task(fct.Hourly_Power_Consumption(x,box))\n",
    "        \n",
    "        #m.add_layer(Marker(location=kwargs.get('coordinates')))\n",
    "m.add(geo_json)\n",
    "m.on_interaction(handle_click)\n",
    "\n",
    "m"
   ]
  },
  {
   "cell_type": "code",
   "execution_count": 14,
   "id": "203d20f6-7329-49d7-b0f6-d84fbd75ef80",
   "metadata": {},
   "outputs": [
    {
     "name": "stdout",
     "output_type": "stream",
     "text": [
      "hello\n"
     ]
    },
    {
     "data": {
      "application/vnd.jupyter.widget-view+json": {
       "model_id": "0511db43d3954d4fa4278421bb63f3ec",
       "version_major": 2,
       "version_minor": 0
      },
      "text/plain": [
       "VBox(children=(Map(center=[52.204793, 360.121558], controls=(ZoomControl(options=['position', 'zoom_in_text', …"
      ]
     },
     "metadata": {},
     "output_type": "display_data"
    }
   ],
   "source": [
    "from ipywidgets import Output, VBox\n",
    "import asyncio\n",
    "from ipyleaflet import Map, Marker, GeoJSON\n",
    "from geopy.geocoders import Nominatim\n",
    "\n",
    "box = VBox()\n",
    "\n",
    "def get_country_from_coordinates(coordinates):\n",
    "    geolocator = Nominatim(user_agent=\"geo_locator\")\n",
    "    location = geolocator.reverse(coordinates, language=\"en\")\n",
    "    address = location.address\n",
    "    country = address.split(\",\")[-1].strip()\n",
    "    return country\n",
    "\n",
    "\n",
    "def handle_click(event, feature, **kwargs):\n",
    "    coordinates = (event['coordinates'][0], event['coordinates'][1])\n",
    "    print('Coordinates:', coordinates)\n",
    "    #country = get_country_from_coordinates(coordinates)\n",
    "    #x = fct.Countries_Abrreviation(country)\n",
    "    #asyncio.create_task(fct.Hourly_Power_Consumption(x, box))\n",
    "\n",
    "\n",
    "m = Map(center=(52.204793, 360.121558), zoom=2)\n",
    "\n",
    "# Ajout de la couche GeoJSON à la carte\n",
    "geo_json_layer = GeoJSON(data=geo_json.data, on_click=handle_click)\n",
    "m.add_layer(geo_json_layer)\n",
    "print('hello')\n",
    "geo_json_layer.on_click(handle_click)\n",
    "\n",
    "box.children = [m]\n",
    "display(box)  \n"
   ]
  },
  {
   "cell_type": "code",
   "execution_count": null,
   "id": "32460caa-3cef-4ccd-9cde-c7de36667341",
   "metadata": {},
   "outputs": [],
   "source": []
  }
 ],
 "metadata": {
  "kernelspec": {
   "display_name": "Python 3 (ipykernel)",
   "language": "python",
   "name": "python3"
  },
  "language_info": {
   "codemirror_mode": {
    "name": "ipython",
    "version": 3
   },
   "file_extension": ".py",
   "mimetype": "text/x-python",
   "name": "python",
   "nbconvert_exporter": "python",
   "pygments_lexer": "ipython3",
   "version": "3.12.2"
  }
 },
 "nbformat": 4,
 "nbformat_minor": 5
}
