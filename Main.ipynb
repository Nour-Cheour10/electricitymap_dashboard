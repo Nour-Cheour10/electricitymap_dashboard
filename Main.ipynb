{
 "cells": [
  {
   "cell_type": "code",
   "execution_count": 2,
   "id": "96812ede-70cf-4bcf-bec9-51bb8f65ad1d",
   "metadata": {},
   "outputs": [],
   "source": [
    "from ipyleaflet import Map, GeoJSON, WidgetControl, FullScreenControl, ZoomControl\n",
    "import ipywidgets as widgets\n",
    "from ipyflex import FlexLayout \n",
    "import json \n",
    "import os\n",
    "import json\n",
    "import random\n",
    "import requests\n",
    "import Functions as fct"
   ]
  },
  {
   "cell_type": "code",
   "execution_count": 3,
   "id": "bb3007f2-9c27-4f00-8354-31e591cd528e",
   "metadata": {},
   "outputs": [
    {
     "data": {
      "application/vnd.jupyter.widget-view+json": {
       "model_id": "0746ab6f0a094788a864c9a5864735f0",
       "version_major": 2,
       "version_minor": 0
      },
      "text/plain": [
       "Map(center=[50.6252978589571, 0.34580993652344], controls=(ZoomControl(options=['position', 'zoom_in_text', 'z…"
      ]
     },
     "execution_count": 3,
     "metadata": {},
     "output_type": "execute_result"
    }
   ],
   "source": [
    "if not os.path.exists('countries.geojson'):\n",
    "    url = 'https://github.com/datasets/geo-countries/blob/master/data/countries.geojson'\n",
    "    r = requests.get(url)\n",
    "    with open('countries_copy', 'w') as f:\n",
    "        f.write(r.content.decode(\"utf-8\"))\n",
    "   \n",
    "with open('countries.geojson', 'r') as f:\n",
    "    data = json.load(f)\n",
    "\n",
    "def random_color(feature):\n",
    "    return {\n",
    "        'color': 'black',\n",
    "        'fillColor': random.choice(['red', 'yellow', 'green', 'orange']),\n",
    "    }\n",
    "\n",
    "m = Map(center=(50.6252978589571, 0.34580993652344), zoom=3)\n",
    "\n",
    "geo_json = GeoJSON(\n",
    "    data=data,\n",
    "    style={\n",
    "        'opacity': 1, 'dashArray': '9', 'fillOpacity': 0.1, 'weight': 1\n",
    "    },\n",
    "    hover_style={\n",
    "        'color': 'white', 'dashArray': '0', 'fillOpacity': 0.5\n",
    "    },\n",
    "    style_callback=random_color\n",
    ")\n",
    "m.add(geo_json)\n",
    "\n",
    "m"
   ]
  },
  {
   "cell_type": "code",
   "execution_count": 34,
   "id": "3fd963c4-c6b0-4614-adf1-6a975300d6b5",
   "metadata": {},
   "outputs": [
    {
     "data": {
      "application/vnd.jupyter.widget-view+json": {
       "model_id": "5a26b7b0b57142e28f7993d45f26fa8d",
       "version_major": 2,
       "version_minor": 0
      },
      "text/plain": [
       "Map(center=[52.204793, 360.121558], controls=(ZoomControl(options=['position', 'zoom_in_text', 'zoom_in_title'…"
      ]
     },
     "execution_count": 34,
     "metadata": {},
     "output_type": "execute_result"
    }
   ],
   "source": [
    "from ipyleaflet import Map\n",
    "from geopy.geocoders import Nominatim\n",
    "\n",
    "def handle_click(**kwargs):\n",
    "    location = marker.location\n",
    "    country = get_country_from_coordinates(location)\n",
    "    #print(f\"Clicked location: {location}, Country: {country}\")\n",
    "    x=fct.Countries_Abrreviation(country)\n",
    "    return(x)\n",
    "\n",
    "\n",
    "def get_country_from_coordinates(coordinates):\n",
    "    geolocator = Nominatim(user_agent=\"geo_locator\")\n",
    "    location = geolocator.reverse(coordinates, language=\"en\")\n",
    "    address = location.address\n",
    "    country = address.split(\",\")[-1].strip()\n",
    "    return country\n",
    "\n",
    "center = (52.204793, 360.121558)\n",
    "m = Map(center=center, zoom=2)  \n",
    "marker = Marker(location=center, draggable=True)\n",
    "m.add_layer(marker)\n",
    "marker.on_click(handle_click)\n",
    "m\n"
   ]
  },
  {
   "cell_type": "code",
   "execution_count": 37,
   "id": "9eb5d78d-b721-4c13-8a82-aab9009d013e",
   "metadata": {},
   "outputs": [
    {
     "name": "stdout",
     "output_type": "stream",
     "text": [
      "FR\n"
     ]
    },
    {
     "data": {
      "application/vnd.jupyter.widget-view+json": {
       "model_id": "db0767550e47403dba83f4735f35d50a",
       "version_major": 2,
       "version_minor": 0
      },
      "text/plain": [
       "Figure(axes=[Axis(scale=DateScale()), Axis(orientation='vertical', scale=LinearScale())], fig_margin={'top': 6…"
      ]
     },
     "metadata": {},
     "output_type": "display_data"
    }
   ],
   "source": [
    "print(handle_click())\n",
    "await fct.Carbon_Intensity_per_day(handle_click())"
   ]
  },
  {
   "cell_type": "code",
   "execution_count": null,
   "id": "86f1b1a5-503a-4bbc-b178-ff3c40599ae0",
   "metadata": {},
   "outputs": [],
   "source": []
  }
 ],
 "metadata": {
  "kernelspec": {
   "display_name": "Python 3 (ipykernel)",
   "language": "python",
   "name": "python3"
  },
  "language_info": {
   "codemirror_mode": {
    "name": "ipython",
    "version": 3
   },
   "file_extension": ".py",
   "mimetype": "text/x-python",
   "name": "python",
   "nbconvert_exporter": "python",
   "pygments_lexer": "ipython3",
   "version": "3.12.2"
  }
 },
 "nbformat": 4,
 "nbformat_minor": 5
}
