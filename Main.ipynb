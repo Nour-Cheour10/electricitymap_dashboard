{
 "cells": [
  {
   "cell_type": "code",
   "execution_count": 1,
   "id": "96812ede-70cf-4bcf-bec9-51bb8f65ad1d",
   "metadata": {},
   "outputs": [],
   "source": [
    "from ipyleaflet import Map, GeoJSON, WidgetControl, FullScreenControl, ZoomControl, Marker, Popup\n",
    "from ipywidgets import Output, HBox,VBox, HTML\n",
    "import bqplot.pyplot as plt\n",
    "from bqplot import DateScale, LinearScale,OrdinalScale, Bars, Axis, Figure,CATEGORY10\n",
    "from geopy.geocoders import Nominatim\n",
    "import asyncio\n",
    "from ipyflex import FlexLayout \n",
    "import json \n",
    "import os\n",
    "import configparser\n",
    "import json\n",
    "import random\n",
    "import requests\n",
    "import Functions as fct\n",
    "config = configparser.ConfigParser() \n",
    "config.read('.config')\n",
    "token = config['DEFAULT']['token']\n"
   ]
  },
  {
   "cell_type": "code",
   "execution_count": 2,
   "id": "bb3007f2-9c27-4f00-8354-31e591cd528e",
   "metadata": {},
   "outputs": [],
   "source": [
    "#Add countries.geojson layer\n",
    "if not os.path.exists('countries.geojson'):\n",
    "    url = 'https://github.com/datasets/geo-countries/blob/master/data/countries.geojson'\n",
    "    r = requests.get(url)\n",
    "    with open('countries_copy', 'w') as f:\n",
    "        f.write(r.content.decode(\"utf-8\"))\n",
    "   \n",
    "with open('countries.geojson', 'r') as f:\n",
    "    data = json.load(f)\n",
    "def random_color(feature):\n",
    "    return {\n",
    "        'color': 'black',\n",
    "        'fillColor': random.choice(['red', 'yellow', 'green', 'orange']),\n",
    "    }\n",
    "geo_json = GeoJSON(\n",
    "    data=data,\n",
    "    style={\n",
    "        'opacity': 1, 'dashArray': '9', 'fillOpacity': 0.1, 'weight': 1\n",
    "    },\n",
    "    hover_style={\n",
    "        'color': 'white', 'dashArray': '0', 'fillOpacity': 0.5\n",
    "    },\n",
    "    style_callback=random_color\n",
    ")\n",
    "m = Map(center=(50.6252978589571, 0.34580993652344), zoom=2)\n",
    "\n",
    "geo_json_layer = GeoJSON(data=geo_json.data)\n",
    "m.add_layer(geo_json_layer)\n"
   ]
  },
  {
   "cell_type": "code",
   "execution_count": 8,
   "id": "f6e28580-89ec-4b20-b401-ac9fe1c4819d",
   "metadata": {
    "jupyter": {
     "source_hidden": true
    }
   },
   "outputs": [],
   "source": [
    "'''import ipywidgets as widgets\n",
    "from ipyleaflet import Map, GeoJSON, Popup\n",
    "\n",
    "\n",
    "# Create a Popup\n",
    "popup = Popup(\n",
    "    location=[],\n",
    "    child=widgets.HTML(\"\"),\n",
    "    close_button=False,\n",
    "    auto_close=False,\n",
    "    close_on_escape_key=False,\n",
    ")\n",
    "# Keep track of the currently displayed Popup\n",
    "current_popup = None\n",
    "\n",
    "# Function to handle hover event\n",
    "def handle_hover(event, feature, **kwargs):\n",
    "    global current_popup\n",
    "    country = feature['properties']['ADMIN']\n",
    "    coordinates = feature['geometry']['coordinates']\n",
    "    coord = coordinates[0][0][0]\n",
    "    latitude, longitude = coord[1], coord[0]\n",
    "    popup.location = [latitude, longitude]\n",
    "    popup.child.value = country \n",
    "\n",
    "    # Remove it existing Popup\n",
    "    if current_popup is not None:\n",
    "        m.remove_layer(current_popup)\n",
    "\n",
    "    # Add the updated Popup to the map\n",
    "    m.add_layer(popup)\n",
    "\n",
    "    # Update the currently displayed Popup\n",
    "    current_popup = popup\n",
    "\n",
    "geo_json_layer.on_hover(handle_hover)'''\n",
    "\n"
   ]
  },
  {
   "cell_type": "code",
   "execution_count": null,
   "id": "606d0885-e98e-486d-873b-b4bbc84b4ab8",
   "metadata": {
    "jupyter": {
     "source_hidden": true
    }
   },
   "outputs": [],
   "source": [
    "box = VBox()\n",
    "axes_options_1 = {\n",
    "    \"x\": {\"label\": \"Time\",\"label_style\": {\"font-size\": \"3px\"}},\n",
    "    \"y\": {\"label\": \"Power Consumption (MWh)\", \"label_offset\": \"6ex\",\"label_font_size\": \"3px\"},\n",
    "}\n",
    "axes_options_2 = {\n",
    "    \"x\": {\"label\": \"Time\",\"label_offset\": \"6ex\"},\n",
    "    \"y\": {\"label\": \"Power Value\", \"label_offset\": \"6ex\"},\n",
    "}\n",
    "axes_options_3 = {\n",
    "    \"x\": {\"label\": \"Source Energie\",\"label_offset\": \"6ex\"},\n",
    "    \"y\": {\"label\": \"Value (MWh)\", \"label_offset\": \"6ex\"},\n",
    "}\n",
    "axes_options_4 = {\n",
    "    \"x\": {\"label\": \"Country\",\"label_offset\": \"6ex\"},\n",
    "    \"y\": {\"label\": \"Value (MWh)\", \"label_offset\": \"6ex\"},\n",
    "}"
   ]
  },
  {
   "cell_type": "code",
   "execution_count": 5,
   "id": "35a11da4-4ae5-431c-aa35-ad4857a1a115",
   "metadata": {
    "collapsed": true,
    "jupyter": {
     "outputs_hidden": true,
     "source_hidden": true
    },
    "scrolled": true
   },
   "outputs": [
    {
     "data": {
      "application/vnd.jupyter.widget-view+json": {
       "model_id": "561a42b6eda446a9963a1accb4c2636a",
       "version_major": 2,
       "version_minor": 0
      },
      "text/plain": [
       "VBox(children=(Map(bottom=544.0, center=[50.6252978589571, 0.34580993652344], controls=(ZoomControl(options=['…"
      ]
     },
     "execution_count": 5,
     "metadata": {},
     "output_type": "execute_result"
    }
   ],
   "source": [
    "#last merge zith 50%\n",
    "\n",
    "\n",
    "\n",
    "############################# Hourly_Power_Consumption_fig#########################################\n",
    "x_ord1 = DateScale()\n",
    "y_sc1 = LinearScale()\n",
    "\n",
    "bar = Bars(scales={'x': x_ord1, 'y': y_sc1}, colors=['blue'], padding=0.2)\n",
    "\n",
    "ax_x = Axis(scale=x_ord1, **axes_options_1[\"x\"])\n",
    "ax_y = Axis(scale=y_sc1, orientation='vertical', tick_format='0.1e', **axes_options_1[\"y\"])\n",
    "\n",
    "Hourly_Power_Consumption_fig = Figure(marks=[bar], axes=[ax_x, ax_y], title=\"Hourly Power Consumption\", \n",
    "             animation_duration=1000, legend_style=dict(fill=\"var(--jp-layout-color0)\"),\n",
    "             legend_location=\"bottom-left\")\n",
    "Hourly_Power_Consumption_fig.axes[0].tick_style = {'font-size': '10px'}  # Pour l'axe x\n",
    "Hourly_Power_Consumption_fig.axes[1].tick_style = {'font-size': '10px'} \n",
    "Hourly_Power_Consumption_fig.layout.width = '50%'  # Set width to 50%\n",
    "axes = plt.axes(options=axes_options_1)\n",
    "\n",
    "################################ Import Export Chart ##############################################\n",
    "\n",
    "x_ord = DateScale()\n",
    "y_sc = LinearScale()\n",
    "\n",
    "Exp_bar = Bars(scales={'x': x_ord, 'y': y_sc}, colors=['blue'], padding=0.2)\n",
    "Imp_bar = Bars(scales={'x': x_ord, 'y': y_sc}, colors=['rgba(255, 0, 0, 0.5)'], padding=0.2)\n",
    "\n",
    "ax_x = Axis(scale=x_ord,**axes_options_2[\"x\"])\n",
    "ax_y = Axis(scale=y_sc, orientation='vertical', tick_format='0.1f',**axes_options_2[\"y\"])\n",
    "\n",
    "fig = Figure(marks=[Exp_bar, Imp_bar], axes=[ax_x, ax_y], title=\"Import Export Chart\",animation_duration=1000, \n",
    "             legend_style=dict(fill=\"var(--jp-layout-color0)\"),legend_location=\"bottom-left\",axes_options=axes_options_2)\n",
    "axes = plt.axes(options=axes_options_2)\n",
    "\n",
    "\n",
    "legend_html = '<div style=\"margin-top:10px;\"><span style=\"color:blue\">&#9632;</span> Export Power</div>' \\\n",
    "              '<div><span style=\"color:red\">&#9632;</span> Import Power</div>'\n",
    "legend_widget = HTML(value=legend_html)\n",
    "\n",
    "fig.axes[0].tick_style = {'font-size': '10px'}  # Pour l'axe x\n",
    "fig.axes[1].tick_style = {'font-size': '10px'} \n",
    "fig_with_legend = VBox([fig, legend_widget])\n",
    "fig_with_legend.layout.width = '50%'  # Set width to 50%\n",
    "\n",
    "################################ Power by source chart #############################################\n",
    "x_scale = OrdinalScale()\n",
    "y_scale = LinearScale()\n",
    "\n",
    "bar_S = Bars(scales={\"x\": x_scale, \"y\": y_scale}, padding=0.2, colors=CATEGORY10, color_mode=\"group\")\n",
    "\n",
    "ax_x = Axis(scale=x_scale, **axes_options_3[\"x\"])\n",
    "ax_y = Axis(scale=y_scale, orientation=\"vertical\", tick_format=\"0.2f\", **axes_options_3[\"y\"])\n",
    "\n",
    "bar_S.orientation = \"horizontal\"\n",
    "ax_x.orientation = \"vertical\"\n",
    "ax_y.orientation = \"horizontal\"\n",
    "\n",
    "source_fig = Figure(title='Power Consumption by Source', axes=[ax_x, ax_y], animation_duration=1000, \n",
    "                    axes_options=axes_options_3)\n",
    "source_fig.axes[0].tick_style = {'font-size': '6px', 'font-weight': 'bold'}  # Pour l'axe x\n",
    "source_fig.axes[1].tick_style = {'font-size': '10px'}  # Pour l'axe x\n",
    "\n",
    "source_fig.marks = [bar_S]\n",
    "##############################Power imported by country#############################################\n",
    "x_ord3 = OrdinalScale()\n",
    "y_sc3 = LinearScale()\n",
    "\n",
    "bar_C = Bars(scales={\"x\": x_ord3, \"y\": y_sc3}, padding=0.1, colors=CATEGORY10, color_mode=\"group\")\n",
    "ax_x = Axis(scale=x_ord3,**axes_options_4[\"x\"])\n",
    "ax_y = Axis(scale=y_sc, orientation=\"vertical\", tick_format=\"0.2f\",**axes_options_4[\"y\"])\n",
    "\n",
    "'''bar.orientation = \"horizontal\"\n",
    "ax_x.orientation = \"vertical\"\n",
    "ax_y.orientation = \"horizontal\"'''\n",
    "source_fig_c = Figure(title='Power Imported by Country', axes=[ax_x, ax_y], animation_duration=1000, \n",
    "                    axes_options=axes_options_3)\n",
    "source_fig_c.axes[0].tick_style = {'font-size': '10px'}  # Pour l'axe x\n",
    "source_fig_c.axes[1].tick_style = {'font-size': '10px'}  # Pour l'axe x\n",
    "\n",
    "source_fig_c.marks = [bar_C]\n",
    "#######################################################################################################\n",
    "def handle_click(event, feature, **kwargs):\n",
    "    country = feature['properties']['ADMIN']\n",
    "    task= asyncio.create_task(fct.Hourly_Power_Consumption(country, bar, token))\n",
    "    task1= asyncio.create_task(fct.Hourly_Imp_Exp_Power_Consumption(country, Imp_bar, Exp_bar, token))\n",
    "    task2=asyncio.create_task(fct.Power_Consumption_Source(country,bar_S,token))\n",
    "    task3=asyncio.create_task(fct.Power_Imported_Country(country,bar_C,token))\n",
    "\n",
    "\n",
    "geo_json_layer.on_click(handle_click)\n",
    "\n",
    "# Arrange the charts horizontally using HBox\n",
    "charts_hbox = HBox([Hourly_Power_Consumption_fig,fig_with_legend])\n",
    "\n",
    "box.children = [m, charts_hbox,source_fig,source_fig_c]  # Add charts_hbox to the VBox\n",
    "\n",
    "#box\n"
   ]
  },
  {
   "cell_type": "code",
   "execution_count": 7,
   "id": "39d2d528-daa0-41f8-860d-72360e2da9a0",
   "metadata": {
    "collapsed": true,
    "jupyter": {
     "outputs_hidden": true,
     "source_hidden": true
    }
   },
   "outputs": [
    {
     "data": {
      "application/vnd.jupyter.widget-view+json": {
       "model_id": "6c81170a1afc4081af760d5f6444463a",
       "version_major": 2,
       "version_minor": 0
      },
      "text/plain": [
       "FlexLayout(children={'Map': Map(bottom=544.0, center=[50.736455137010665, 0.3515625], controls=(ZoomControl(op…"
      ]
     },
     "execution_count": 7,
     "metadata": {},
     "output_type": "execute_result"
    }
   ],
   "source": [
    "w = {\"Map\": m, \"Electricity Production\": charts_hbox, \"Electricity by Origin \": source_fig,\"Electricity imported by country\":source_fig_c}\n",
    "header = dict(title=\"Electricity Production\", buttons=[])\n",
    "FlexLayout(\n",
    "    w,\n",
    "    style={\"height\": \"calc(160vh - 100px)\"},\n",
    "    header=header,\n",
    "    template=\"Electricity_map.json\",\n",
    ")"
   ]
  },
  {
   "cell_type": "code",
   "execution_count": null,
   "id": "e4be9173-370f-4680-aeb8-ad6670948ffd",
   "metadata": {},
   "outputs": [],
   "source": []
  }
 ],
 "metadata": {
  "kernelspec": {
   "display_name": "Python 3 (ipykernel)",
   "language": "python",
   "name": "python3"
  },
  "language_info": {
   "codemirror_mode": {
    "name": "ipython",
    "version": 3
   },
   "file_extension": ".py",
   "mimetype": "text/x-python",
   "name": "python",
   "nbconvert_exporter": "python",
   "pygments_lexer": "ipython3",
   "version": "3.12.2"
  }
 },
 "nbformat": 4,
 "nbformat_minor": 5
}
