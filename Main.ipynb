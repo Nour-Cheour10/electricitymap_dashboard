{
 "cells": [
  {
   "cell_type": "code",
   "execution_count": null,
   "id": "96812ede-70cf-4bcf-bec9-51bb8f65ad1d",
   "metadata": {},
   "outputs": [],
   "source": [
    "from ipyleaflet import Map, GeoJSON, WidgetControl, FullScreenControl, ZoomControl, Marker\n",
    "import ipywidgets as widgets\n",
    "from ipyflex import FlexLayout \n",
    "import json \n",
    "import os\n",
    "import json\n",
    "import random\n",
    "import requests\n",
    "import Functions as fct"
   ]
  },
  {
   "cell_type": "code",
   "execution_count": null,
   "id": "bb3007f2-9c27-4f00-8354-31e591cd528e",
   "metadata": {},
   "outputs": [],
   "source": [
    "if not os.path.exists('countries.geojson'):\n",
    "    url = 'https://github.com/datasets/geo-countries/blob/master/data/countries.geojson'\n",
    "    r = requests.get(url)\n",
    "    with open('countries_copy', 'w') as f:\n",
    "        f.write(r.content.decode(\"utf-8\"))\n",
    "   \n",
    "with open('countries.geojson', 'r') as f:\n",
    "    data = json.load(f)\n",
    "\n",
    "def random_color(feature):\n",
    "    return {\n",
    "        'color': 'black',\n",
    "        'fillColor': random.choice(['red', 'yellow', 'green', 'orange']),\n",
    "    }\n",
    "\n",
    "m = Map(center=(50.6252978589571, 0.34580993652344), zoom=3)\n",
    "\n",
    "geo_json = GeoJSON(\n",
    "    data=data,\n",
    "    style={\n",
    "        'opacity': 1, 'dashArray': '9', 'fillOpacity': 0.1, 'weight': 1\n",
    "    },\n",
    "    hover_style={\n",
    "        'color': 'white', 'dashArray': '0', 'fillOpacity': 0.5\n",
    "    },\n",
    "    style_callback=random_color\n",
    ")\n",
    "m.add(geo_json)\n",
    "\n",
    "m"
   ]
  },
  {
   "cell_type": "code",
   "execution_count": null,
   "id": "3fd963c4-c6b0-4614-adf1-6a975300d6b5",
   "metadata": {},
   "outputs": [],
   "source": [
    "from ipyleaflet import Map\n",
    "from geopy.geocoders import Nominatim\n",
    "import asyncio\n",
    "from ipywidgets import Output, VBox\n",
    "\n",
    "box = VBox()\n",
    "\n",
    "\n",
    "def handle_click(**kwargs):\n",
    "    location = marker.location\n",
    "    country = get_country_from_coordinates(location)\n",
    "    #print(f\"Clicked location: {location}, Country: {country}\")\n",
    "    x=fct.Countries_Abrreviation(country)\n",
    "\n",
    "    asyncio.create_task(fct.Carbon_Intensity_per_day(x, box))\n",
    "\n",
    "\n",
    "def get_country_from_coordinates(coordinates):\n",
    "    geolocator = Nominatim(user_agent=\"geo_locator\")\n",
    "    location = geolocator.reverse(coordinates, language=\"en\")\n",
    "    address = location.address\n",
    "    country = address.split(\",\")[-1].strip()\n",
    "    return country\n",
    "\n",
    "center = (52.204793, 360.121558)\n",
    "m = Map(center=center, zoom=2)  \n",
    "marker = Marker(location=center, draggable=True)\n",
    "m.add_layer(marker)\n",
    "marker.on_click(handle_click)\n",
    "\n",
    "box.children = [m]\n",
    "display(box)"
   ]
  },
  {
   "cell_type": "code",
   "execution_count": null,
   "id": "9eb5d78d-b721-4c13-8a82-aab9009d013e",
   "metadata": {},
   "outputs": [],
   "source": [
    "await fct.Carbon_Intensity_per_day('FR', box)"
   ]
  }
 ],
 "metadata": {
  "kernelspec": {
   "display_name": "Python 3 (ipykernel)",
   "language": "python",
   "name": "python3"
  },
  "language_info": {
   "codemirror_mode": {
    "name": "ipython",
    "version": 3
   },
   "file_extension": ".py",
   "mimetype": "text/x-python",
   "name": "python",
   "nbconvert_exporter": "python",
   "pygments_lexer": "ipython3",
   "version": "3.12.2"
  }
 },
 "nbformat": 4,
 "nbformat_minor": 5
}
