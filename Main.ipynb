{
 "cells": [
  {
   "cell_type": "code",
   "execution_count": 1,
   "id": "96812ede-70cf-4bcf-bec9-51bb8f65ad1d",
   "metadata": {},
   "outputs": [],
   "source": [
    "from ipyleaflet import Map, GeoJSON, WidgetControl, FullScreenControl, ZoomControl, Marker\n",
    "from ipywidgets import Output, HBox,VBox\n",
    "from geopy.geocoders import Nominatim\n",
    "import asyncio\n",
    "from ipyflex import FlexLayout \n",
    "import json \n",
    "import os\n",
    "import configparser\n",
    "import json\n",
    "import random\n",
    "import requests\n",
    "import Functions as fct\n",
    "config = configparser.ConfigParser()\n",
    "config.read('.config')\n",
    "token = config['DEFAULT']['token']\n"
   ]
  },
  {
   "cell_type": "code",
   "execution_count": 3,
   "id": "bb3007f2-9c27-4f00-8354-31e591cd528e",
   "metadata": {},
   "outputs": [
    {
     "data": {
      "text/plain": [
       "\"def handle_click(**kwargs):\\n    if kwargs.get('type') == 'click':\\n        m.add_layer(Marker(location=kwargs.get('coordinates')))\\nm.add(geo_json)\\nm.on_interaction(handle_click)\\nm\""
      ]
     },
     "execution_count": 3,
     "metadata": {},
     "output_type": "execute_result"
    }
   ],
   "source": [
    "if not os.path.exists('countries.geojson'):\n",
    "    url = 'https://github.com/datasets/geo-countries/blob/master/data/countries.geojson'\n",
    "    r = requests.get(url)\n",
    "    with open('countries_copy', 'w') as f:\n",
    "        f.write(r.content.decode(\"utf-8\"))\n",
    "   \n",
    "with open('countries.geojson', 'r') as f:\n",
    "    data = json.load(f)\n",
    "\n",
    "def random_color(feature):\n",
    "    return {\n",
    "        'color': 'black',\n",
    "        'fillColor': random.choice(['red', 'yellow', 'green', 'orange']),\n",
    "    }\n",
    "\n",
    "m = Map(center=(50.6252978589571, 0.34580993652344), zoom=3)\n",
    "\n",
    "geo_json = GeoJSON(\n",
    "    data=data,\n",
    "    style={\n",
    "        'opacity': 1, 'dashArray': '9', 'fillOpacity': 0.1, 'weight': 1\n",
    "    },\n",
    "    hover_style={\n",
    "        'color': 'white', 'dashArray': '0', 'fillOpacity': 0.5\n",
    "    },\n",
    "    style_callback=random_color\n",
    ")\n",
    "'''def handle_click(**kwargs):\n",
    "    if kwargs.get('type') == 'click':\n",
    "        m.add_layer(Marker(location=kwargs.get('coordinates')))\n",
    "m.add(geo_json)\n",
    "m.on_interaction(handle_click)\n",
    "m'''"
   ]
  },
  {
   "cell_type": "code",
   "execution_count": 32,
   "id": "0f844ba5-d3fc-4070-956c-dfba36fd35b7",
   "metadata": {
    "jupyter": {
     "source_hidden": true
    }
   },
   "outputs": [
    {
     "data": {
      "text/plain": [
       "'import asyncio\\nfrom aioelectricitymaps import ElectricityMaps, ZoneRequest\\nfrom ipyleaflet import Map, GeoJSON, WidgetControl, FullScreenControl, ZoomControl,Marker\\nfrom IPython.display import display\\nfrom ipywidgets import Output, HBox,VBox as widgets\\nimport numpy as np\\nimport bqplot.pyplot as plt\\nimport pandas as pd\\nimport configparser\\nfrom datetime import datetime, timedelta\\nfrom pkgutil import iter_modules\\nimport ipywidgets as widgets\\nfrom geopy.geocoders import Nominatim\\nimport asyncio\\nfrom bqplot import (\\n    CATEGORY10,\\n    LinearScale,\\n    Axis,\\n    Figure,\\n    OrdinalScale,\\n    Bars,\\n    DateScale\\n)\\n\\n#Hourly Hourly Import Export Power Consumption\\nasync with ElectricityMaps(token=token) as em:\\n    response_history= await em.power_breakdown_history(ZoneRequest(\\'FR\\'))\\nparam1 = [param.power_export_total for param in response_history.history]\\nparam2 = [param.power_import_total for param in response_history.history]\\ndatetime_data = np.array(param1, dtype=\"datetime64[s]\")\\nPower_Consumption = param2\\nfig_above = plt.figure(title=\"Power Export Total\")\\nabove_bar = plt.bar(datetime_data, param1, colors=[\\'blue\\'], labels=[\\'Above\\'])\\nfig_below = plt.figure(title=\"Power Import Total\")\\nbelow_bar = plt.bar(datetime_data, param2, colors=[\\'red\\'], labels=[\\'Below\\'])\\nif len(box.children) > 0:\\n    box2.children = [box2.children[0], widgets.HBox([fig_above, fig_below])]\\nelse:\\n    box2.children = [widgets.HBox([fig_above, fig_below])]\\n\\ndisplay(box2)'"
      ]
     },
     "execution_count": 32,
     "metadata": {},
     "output_type": "execute_result"
    }
   ],
   "source": [
    "#weird\n",
    "'''import asyncio\n",
    "from aioelectricitymaps import ElectricityMaps, ZoneRequest\n",
    "from ipyleaflet import Map, GeoJSON, WidgetControl, FullScreenControl, ZoomControl,Marker\n",
    "from IPython.display import display\n",
    "from ipywidgets import Output, HBox,VBox as widgets\n",
    "import numpy as np\n",
    "import bqplot.pyplot as plt\n",
    "import pandas as pd\n",
    "import configparser\n",
    "from datetime import datetime, timedelta\n",
    "from pkgutil import iter_modules\n",
    "import ipywidgets as widgets\n",
    "from geopy.geocoders import Nominatim\n",
    "import asyncio\n",
    "from bqplot import (\n",
    "    CATEGORY10,\n",
    "    LinearScale,\n",
    "    Axis,\n",
    "    Figure,\n",
    "    OrdinalScale,\n",
    "    Bars,\n",
    "    DateScale\n",
    ")\n",
    "\n",
    "#Hourly Hourly Import Export Power Consumption\n",
    "async with ElectricityMaps(token=token) as em:\n",
    "    response_history= await em.power_breakdown_history(ZoneRequest('FR'))\n",
    "param1 = [param.power_export_total for param in response_history.history]\n",
    "param2 = [param.power_import_total for param in response_history.history]\n",
    "datetime_data = np.array(param1, dtype=\"datetime64[s]\")\n",
    "Power_Consumption = param2\n",
    "fig_above = plt.figure(title=\"Power Export Total\")\n",
    "above_bar = plt.bar(datetime_data, param1, colors=['blue'], labels=['Above'])\n",
    "fig_below = plt.figure(title=\"Power Import Total\")\n",
    "below_bar = plt.bar(datetime_data, param2, colors=['red'], labels=['Below'])\n",
    "if len(box.children) > 0:\n",
    "    box2.children = [box2.children[0], widgets.HBox([fig_above, fig_below])]\n",
    "else:\n",
    "    box2.children = [widgets.HBox([fig_above, fig_below])]\n",
    "\n",
    "display(box2)'''"
   ]
  },
  {
   "cell_type": "code",
   "execution_count": 13,
   "id": "2b88dbe8-4c5d-411d-9a6d-b78166377361",
   "metadata": {
    "collapsed": true,
    "jupyter": {
     "outputs_hidden": true,
     "source_hidden": true
    }
   },
   "outputs": [
    {
     "data": {
      "application/vnd.jupyter.widget-view+json": {
       "model_id": "77005103591742289dbb62b26d07d50b",
       "version_major": 2,
       "version_minor": 0
      },
      "text/plain": [
       "VBox(children=(Map(center=[52.204793, 360.121558], controls=(ZoomControl(options=['position', 'zoom_in_text', …"
      ]
     },
     "metadata": {},
     "output_type": "display_data"
    }
   ],
   "source": [
    "#TEST Carbon_Intensity_per_day dans le but d,un dash\n",
    "from ipywidgets import Output, VBox\n",
    "box = VBox()\n",
    "\n",
    "def handle_click(**kwargs):\n",
    "    location = marker.location\n",
    "    country = fct.get_country_from_coordinates(location)\n",
    "    #print(f\"Clicked location: {location}, Country: {country}\")\n",
    "    x=fct.Countries_Abrreviation(country)\n",
    "    asyncio.create_task(fct.Carbon_Intensity_per_day(x,box,token))\n",
    "\n",
    "center = (52.204793, 360.121558)\n",
    "m = Map(center=center, zoom=2)  \n",
    "marker = Marker(location=center, draggable=True)\n",
    "m.add_layer(marker)\n",
    "marker.on_click(handle_click)\n",
    "\n",
    "box.children = [m]\n",
    "output_widget_H = Output()\n",
    "output_widget_H.append_display_data(box)\n",
    "display(box)\n"
   ]
  },
  {
   "cell_type": "code",
   "execution_count": 14,
   "id": "b9b0e072-4aef-4d4d-9c91-4b7a51b04a87",
   "metadata": {
    "collapsed": true,
    "jupyter": {
     "outputs_hidden": true,
     "source_hidden": true
    },
    "scrolled": true
   },
   "outputs": [
    {
     "data": {
      "application/vnd.jupyter.widget-view+json": {
       "model_id": "54b84c90aa5d4decaea3a5a237aee0b7",
       "version_major": 2,
       "version_minor": 0
      },
      "text/plain": [
       "VBox(children=(Map(center=[52.204793, 360.121558], controls=(ZoomControl(options=['position', 'zoom_in_text', …"
      ]
     },
     "metadata": {},
     "output_type": "display_data"
    }
   ],
   "source": [
    "#TEST Hourly_Power_Consumption dans le but d,un dash \n",
    "from ipywidgets import Output, VBox\n",
    "box = VBox()\n",
    "\n",
    "def handle_click(**kwargs):\n",
    "    location = marker.location\n",
    "    country = get_country_from_coordinates(location)\n",
    "    #print(f\"Clicked location: {location}, Country: {country}\")\n",
    "    x=fct.Countries_Abrreviation(country)\n",
    "    asyncio.create_task(fct.Hourly_Power_Consumption(x,box,token))\n",
    "    \n",
    "\n",
    "def get_country_from_coordinates(coordinates):\n",
    "    geolocator = Nominatim(user_agent=\"geo_locator\")\n",
    "    location = geolocator.reverse(coordinates, language=\"en\")\n",
    "    address = location.address\n",
    "    country = address.split(\",\")[-1].strip()\n",
    "    return country\n",
    "\n",
    "center = (52.204793, 360.121558)\n",
    "m = Map(center=center, zoom=2)  \n",
    "marker = Marker(location=center, draggable=True)\n",
    "m.add_layer(marker)\n",
    "marker.on_click(handle_click)\n",
    "\n",
    "box.children = [m]\n",
    "output_widget = Output()\n",
    "output_widget.append_display_data(box)\n",
    "display(box)\n"
   ]
  },
  {
   "cell_type": "code",
   "execution_count": 4,
   "id": "203d20f6-7329-49d7-b0f6-d84fbd75ef80",
   "metadata": {},
   "outputs": [
    {
     "data": {
      "application/vnd.jupyter.widget-view+json": {
       "model_id": "47cf373747b84d9380f1a25172c13f6a",
       "version_major": 2,
       "version_minor": 0
      },
      "text/plain": [
       "VBox(children=(VBox(children=(VBox(children=(Map(center=[50.6252978589571, 0.34580993652344], controls=(ZoomCo…"
      ]
     },
     "metadata": {},
     "output_type": "display_data"
    }
   ],
   "source": [
    "box = VBox()\n",
    "box1 = VBox()\n",
    "box2 = VBox()\n",
    "\n",
    "def handle_click(event, feature, **kwargs):\n",
    "    country = feature['properties']['ADMIN']\n",
    "    x = fct.Countries_Abrreviation(country)\n",
    "    asyncio.create_task(fct.Hourly_Imp_Exp_Power_Consumption(x,box2,token))\n",
    "    asyncio.create_task(fct.Hourly_Power_Consumption(x,box1,token))\n",
    "    asyncio.create_task(fct.Carbon_Intensity_per_day(x,box,token))\n",
    "\n",
    "    \n",
    "m = Map(center=(50.6252978589571, 0.34580993652344), zoom=2)\n",
    "\n",
    "# Ajout de la couche GeoJSON à la carte\n",
    "geo_json_layer = GeoJSON(data=geo_json.data, on_click=handle_click)\n",
    "m.add_layer(geo_json_layer)\n",
    "geo_json_layer.on_click(handle_click)\n",
    "\n",
    "\n",
    "\n",
    "\n",
    "box.children = [m]\n",
    "output_widget=Output()\n",
    "output_widget.append_display_data(box)\n",
    "\n",
    "#Juste for the dashboard\n",
    "box1.children= [m]\n",
    "output_widget_H=Output()\n",
    "output_widget_H.append_display_data(box1)\n",
    "#''''\n",
    "box1.children= [box]\n",
    "box2.children=[box1]\n",
    "\n",
    "display(box2)  \n",
    " \n"
   ]
  },
  {
   "cell_type": "code",
   "execution_count": 5,
   "id": "8e744b7f-22ee-4878-ae94-9e2e20579ba7",
   "metadata": {},
   "outputs": [
    {
     "data": {
      "application/vnd.jupyter.widget-view+json": {
       "model_id": "c807e7578ddb4a5f9462228cbf3864e3",
       "version_major": 2,
       "version_minor": 0
      },
      "text/plain": [
       "FlexLayout(children={'Carbon Intensity per day': Output(outputs=({'output_type': 'display_data', 'data': {'tex…"
      ]
     },
     "execution_count": 5,
     "metadata": {},
     "output_type": "execute_result"
    }
   ],
   "source": [
    "dashboard = FlexLayout(style={'height':'700px'})\n",
    "dashboard.add('Carbon Intensity per day',output_widget)\n",
    "dashboard.add('Hourly Power Consumption',output_widget_H)\n",
    "dashboard"
   ]
  },
  {
   "cell_type": "code",
   "execution_count": null,
   "id": "32460caa-3cef-4ccd-9cde-c7de36667341",
   "metadata": {},
   "outputs": [],
   "source": []
  }
 ],
 "metadata": {
  "kernelspec": {
   "display_name": "Python 3 (ipykernel)",
   "language": "python",
   "name": "python3"
  },
  "language_info": {
   "codemirror_mode": {
    "name": "ipython",
    "version": 3
   },
   "file_extension": ".py",
   "mimetype": "text/x-python",
   "name": "python",
   "nbconvert_exporter": "python",
   "pygments_lexer": "ipython3",
   "version": "3.12.2"
  }
 },
 "nbformat": 4,
 "nbformat_minor": 5
}
