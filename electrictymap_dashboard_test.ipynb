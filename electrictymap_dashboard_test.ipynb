{
 "cells": [
  {
   "cell_type": "code",
   "execution_count": null,
   "id": "cf8b27f0-238d-49e6-ae7a-c3a88cdb2319",
   "metadata": {},
   "outputs": [],
   "source": [
    "from ipyleaflet import Map, GeoJSON"
   ]
  },
  {
   "cell_type": "code",
   "execution_count": null,
   "id": "c2bee7cf-092f-480c-ae30-4d3fcf567c33",
   "metadata": {},
   "outputs": [],
   "source": [
    "import json"
   ]
  },
  {
   "cell_type": "code",
   "execution_count": null,
   "id": "61fd47de-2f81-4cad-9111-07801fbaeb42",
   "metadata": {},
   "outputs": [],
   "source": [
    "with open(\"examples/eu-countries.geo.json\") as f:\n",
    "    countries = json.load(f)"
   ]
  },
  {
   "cell_type": "code",
   "execution_count": null,
   "id": "dc26d11b-95b9-4481-870f-00212d110725",
   "metadata": {},
   "outputs": [],
   "source": [
    "# countries"
   ]
  },
  {
   "cell_type": "code",
   "execution_count": null,
   "id": "a37cef53-6949-4a7e-898c-da769edd13f8",
   "metadata": {},
   "outputs": [],
   "source": [
    "m = Map()\n",
    "\n",
    "geojson = GeoJSON(data=countries)\n",
    "\n",
    "m.add_layer(geojson)\n",
    "\n",
    "m.zoom = 3\n",
    "\n",
    "m"
   ]
  },
  {
   "cell_type": "code",
   "execution_count": null,
   "id": "ebcd5ec5-70fe-433d-8a0e-7757332624b7",
   "metadata": {},
   "outputs": [],
   "source": [
    "def on_click(event, feature, **kwargs):\n",
    "    print(feature[\"properties\"][\"iso_a2\"])\n",
    "\n",
    "    # Fetch data\n",
    "    data = fetch_production(feature[\"properties\"][\"iso_a2\"])\n",
    "\n",
    "    param = []\n",
    "    labels = []\n",
    "\n",
    "    # Populate lists\n",
    "    if \"wind\" in data:\n",
    "        wind = data[\"wind\"]\n",
    "        param.append(wind)\n",
    "        labels.append(\"wind\")\n",
    "    if \"coal\" in data:\n",
    "        coal = data[\"coal\"]\n",
    "        param.append(coal)\n",
    "        labels.append(\"coal\")\n",
    "    # etc\n",
    "\n",
    "    # Create plot\n",
    "    fig = 0\n",
    "    display(fig)"
   ]
  },
  {
   "cell_type": "code",
   "execution_count": null,
   "id": "c5f4f10e-51fe-481a-91b1-a133c27db28d",
   "metadata": {},
   "outputs": [],
   "source": [
    "geojson.on_click(on_click)"
   ]
  }
 ],
 "metadata": {
  "kernelspec": {
   "display_name": "Python 3 (ipykernel)",
   "language": "python",
   "name": "python3"
  },
  "language_info": {
   "codemirror_mode": {
    "name": "ipython",
    "version": 3
   },
   "file_extension": ".py",
   "mimetype": "text/x-python",
   "name": "python",
   "nbconvert_exporter": "python",
   "pygments_lexer": "ipython3",
   "version": "3.10.0"
  },
  "widgets": {
   "application/vnd.jupyter.widget-state+json": {
    "state": {},
    "version_major": 2,
    "version_minor": 0
   }
  }
 },
 "nbformat": 4,
 "nbformat_minor": 5
}
